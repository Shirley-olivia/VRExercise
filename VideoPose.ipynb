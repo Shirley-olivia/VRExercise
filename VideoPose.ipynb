{
 "cells": [
  {
   "cell_type": "markdown",
   "id": "466a64ed-7068-4a92-9755-84ea56de799d",
   "metadata": {},
   "source": [
    "# VideoPose"
   ]
  },
  {
   "cell_type": "markdown",
   "id": "90f3a192-6e82-493d-ad66-f3c8cf16ece5",
   "metadata": {
    "tags": []
   },
   "source": [
    "## 进入 mmpose 主目录"
   ]
  },
  {
   "cell_type": "code",
   "execution_count": 1,
   "id": "801da2ce-97c1-47a2-a211-86336b6f0679",
   "metadata": {
    "ExecuteTime": {
     "end_time": "2023-11-20T06:41:05.603349800Z",
     "start_time": "2023-11-20T06:41:05.587698300Z"
    }
   },
   "outputs": [],
   "source": [
    "import os\n",
    "os.chdir('mmpose')"
   ]
  },
  {
   "cell_type": "markdown",
   "id": "dd73e683-9186-4868-ade0-ea8dfa5bacd8",
   "metadata": {},
   "source": [
    "## VideoPose"
   ]
  },
  {
   "cell_type": "code",
   "execution_count": 21,
   "id": "22c18333-b46a-4072-bc2a-42a82edf9c3e",
   "metadata": {
    "ExecuteTime": {
     "end_time": "2023-11-20T08:56:06.442086800Z",
     "start_time": "2023-11-20T08:55:39.002203300Z"
    }
   },
   "outputs": [
    {
     "name": "stdout",
     "output_type": "stream",
     "text": [
      "Loads checkpoint by http backend from path: https://download.openmmlab.com/mmpose/v1/projects/rtmpose/rtmdet_m_8xb32-100e_coco-obj365-person-235e8209.pth\n",
      "Loads checkpoint by http backend from path: https://download.openmmlab.com/mmpose/v1/projects/rtmposev1/rtmpose-m_simcc-body7_pt-body7_420e-256x192-e48f03d0_20230504.pth\n",
      "Loads checkpoint by http backend from path: https://download.openmmlab.com/mmpose/body3d/videopose/videopose_h36m_243frames_fullconv_supervised_cpn_ft-88f5abbb_20210527.pth\n",
      "11/20 16:56:04 - mmengine - INFO - the output video has been saved at webcam_results\\webcam.mp4\n"
     ]
    },
    {
     "name": "stderr",
     "output_type": "stream",
     "text": [
      "D:\\C\\miniconda\\miniconda3\\envs\\openmmlab\\lib\\site-packages\\torch\\functional.py:568: UserWarning: torch.meshgrid: in an upcoming release, it will be required to pass the indexing argument. (Triggered internally at  C:\\actions-runner\\_work\\pytorch\\pytorch\\builder\\windows\\pytorch\\aten\\src\\ATen\\native\\TensorShape.cpp:2228.)\n",
      "  return _VF.meshgrid(tensors, **kwargs)  # type: ignore[attr-defined]\n"
     ]
    }
   ],
   "source": [
    "# !python demo/body3d_pose_lifter_demo.py  \\\n",
    "# demo/mmdetection_cfg/rtmdet_m_640-8xb32_coco-person.py \\\n",
    "# https://download.openmmlab.com/mmpose/v1/projects/rtmpose/rtmdet_m_8xb32-100e_coco-obj365-person-235e8209.pth \\\n",
    "# configs/body_2d_keypoint/rtmpose/body8/rtmpose-m_8xb256-420e_body8-256x192.py \\\n",
    "# https://download.openmmlab.com/mmpose/v1/projects/rtmposev1/rtmpose-m_simcc-body7_pt-body7_420e-256x192-e48f03d0_20230504.pth \\\n",
    "# configs/body_3d_keypoint/video_pose_lift/h36m/video-pose-lift_tcn-243frm-supv-cpn-ft_8xb128-200e_h36m.py \\\n",
    "# https://download.openmmlab.com/mmpose/body3d/videopose/videopose_h36m_243frames_fullconv_supervised_cpn_ft-88f5abbb_20210527.pth  \\\n",
    "# --input data/test/Greeting.mp4 \\\n",
    "# --output-root  videopose_results \\\n",
    "# --save-predictions\n",
    "\n",
    "# !python demo/body3d_pose_lifter_demo.py  \\\n",
    "# demo/mmdetection_cfg/rtmdet_m_640-8xb32_coco-person.py \\\n",
    "# https://download.openmmlab.com/mmpose/v1/projects/rtmpose/rtmdet_m_8xb32-100e_coco-obj365-person-235e8209.pth \\\n",
    "# configs/body_2d_keypoint/rtmpose/body8/rtmpose-m_8xb256-420e_body8-256x192.py \\\n",
    "# https://download.openmmlab.com/mmpose/v1/projects/rtmposev1/rtmpose-m_simcc-body7_pt-body7_420e-256x192-e48f03d0_20230504.pth \\\n",
    "# configs/body_3d_keypoint/video_pose_lift/h36m/video-pose-lift_tcn-243frm-supv_8xb128-160e_h36m.py \\\n",
    "# https://download.openmmlab.com/mmpose/body3d/videopose/videopose_h36m_243frames_fullconv_supervised-880bea25_20210527.pth  \\\n",
    "# --input data/test/166.mp4 \\\n",
    "# --output-root  vis_results \\\n",
    "# --save-predictions\n",
    "\n",
    "!python demo/body3d_pose_lifter_demo.py  \\\n",
    "demo/mmdetection_cfg/rtmdet_m_640-8xb32_coco-person.py \\\n",
    "https://download.openmmlab.com/mmpose/v1/projects/rtmpose/rtmdet_m_8xb32-100e_coco-obj365-person-235e8209.pth \\\n",
    "configs/body_2d_keypoint/rtmpose/body8/rtmpose-m_8xb256-420e_body8-256x192.py \\\n",
    "https://download.openmmlab.com/mmpose/v1/projects/rtmposev1/rtmpose-m_simcc-body7_pt-body7_420e-256x192-e48f03d0_20230504.pth \\\n",
    "configs/body_3d_keypoint/video_pose_lift/h36m/video-pose-lift_tcn-243frm-supv-cpn-ft_8xb128-200e_h36m.py \\\n",
    "https://download.openmmlab.com/mmpose/body3d/videopose/videopose_h36m_243frames_fullconv_supervised_cpn_ft-88f5abbb_20210527.pth  \\\n",
    "--input webcam \\\n",
    "--show  \\\n",
    "--output-root  webcam_results \\\n",
    "--save-predictions  \\\n",
    "--online"
   ]
  },
  {
   "cell_type": "markdown",
   "id": "054d883f-6e1d-42ea-84a5-12a7c3f7da03",
   "metadata": {},
   "source": [
    "\n",
    "## image_pose_lift"
   ]
  },
  {
   "cell_type": "code",
   "execution_count": 3,
   "id": "ecd82ed1-cdc7-4a72-aad5-5d0720133640",
   "metadata": {},
   "outputs": [
    {
     "name": "stdout",
     "output_type": "stream",
     "text": [
      "Loads checkpoint by http backend from path: https://download.openmmlab.com/mmpose/v1/projects/rtmpose/rtmdet_m_8xb32-100e_coco-obj365-person-235e8209.pth\n",
      "Loads checkpoint by http backend from path: https://download.openmmlab.com/mmpose/v1/projects/rtmposev1/rtmpose-m_simcc-body7_pt-body7_420e-256x192-e48f03d0_20230504.pth\n",
      "Loads checkpoint by http backend from path: https://download.openmmlab.com/mmpose/body3d/simple_baseline/simple3Dbaseline_h36m-f0ad73a4_20210419.pth\n",
      "Downloading: \"https://download.openmmlab.com/mmpose/body3d/simple_baseline/simple3Dbaseline_h36m-f0ad73a4_20210419.pth\" to /home/featurize/.cache/torch/hub/checkpoints/simple3Dbaseline_h36m-f0ad73a4_20210419.pth\n",
      "100%|██████████████████████████████████████| 16.4M/16.4M [00:01<00:00, 15.6MB/s]\n",
      "/environment/miniconda3/lib/python3.7/site-packages/torch/functional.py:568: UserWarning: torch.meshgrid: in an upcoming release, it will be required to pass the indexing argument. (Triggered internally at  ../aten/src/ATen/native/TensorShape.cpp:2228.)\n",
      "  return _VF.meshgrid(tensors, **kwargs)  # type: ignore[attr-defined]\n",
      "predictions have been saved at ipl_results/results_Walking-filmage.json\n",
      "10/31 11:23:10 - mmengine - \u001B[4m\u001B[37mINFO\u001B[0m - the output video has been saved at ipl_results/Walking-filmage.mp4\n"
     ]
    }
   ],
   "source": [
    "!python demo/body3d_pose_lifter_demo.py \\\n",
    "demo/mmdetection_cfg/rtmdet_m_640-8xb32_coco-person.py \\\n",
    "https://download.openmmlab.com/mmpose/v1/projects/rtmpose/rtmdet_m_8xb32-100e_coco-obj365-person-235e8209.pth \\\n",
    "configs/body_2d_keypoint/rtmpose/body8/rtmpose-m_8xb256-420e_body8-256x192.py \\\n",
    "https://download.openmmlab.com/mmpose/v1/projects/rtmposev1/rtmpose-m_simcc-body7_pt-body7_420e-256x192-e48f03d0_20230504.pth \\\n",
    "configs/body_3d_keypoint/image_pose_lift/h36m/image-pose-lift_tcn_8xb64-200e_h36m.py \\\n",
    "https://download.openmmlab.com/mmpose/body3d/simple_baseline/simple3Dbaseline_h36m-f0ad73a4_20210419.pth \\\n",
    "--input data/test/Walking-filmage.mp4\\\n",
    "--output-root  ipl_results  \\\n",
    "--save-predictions"
   ]
  },
  {
   "cell_type": "code",
   "execution_count": null,
   "id": "60777639-93bc-46cb-b0db-22dd43c3a375",
   "metadata": {},
   "outputs": [],
   "source": []
  }
 ],
 "metadata": {
  "kernelspec": {
   "display_name": "Python 3 (ipykernel)",
   "language": "python",
   "name": "python3"
  },
  "language_info": {
   "codemirror_mode": {
    "name": "ipython",
    "version": 3
   },
   "file_extension": ".py",
   "mimetype": "text/x-python",
   "name": "python",
   "nbconvert_exporter": "python",
   "pygments_lexer": "ipython3",
   "version": "3.7.10"
  }
 },
 "nbformat": 4,
 "nbformat_minor": 5
}
