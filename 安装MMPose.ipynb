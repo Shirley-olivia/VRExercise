{
 "cells": [
  {
   "cell_type": "markdown",
   "id": "bc3d1961-9081-49c9-be56-ad0c748decf1",
   "metadata": {},
   "source": [
    "# 安装MMPose"
   ]
  },
  {
   "cell_type": "markdown",
   "id": "6fc1c686-1267-4503-b9e4-bcb188a7f974",
   "metadata": {
    "tags": []
   },
   "source": [
    "## 安装Pytorch"
   ]
  },
  {
   "cell_type": "code",
   "execution_count": null,
   "id": "2fef57fc-d5f0-4cd0-a134-1f025c15439f",
   "metadata": {
    "ExecuteTime": {
     "start_time": "2023-11-01T06:30:27.388061400Z"
    }
   },
   "outputs": [],
   "source": [
    "# 安装 Pytorch\n",
    "# !pip install --upgrade pip\n",
    "# !pip install --user pipenv==2022.1.8\n",
    "# !pip3 install install torch==1.10.1+cu113 torchvision==0.11.2+cu113 torchaudio==0.10.1+cu113 -f https://download.pytorch.org/whl/cu113/torch_stable.html\n",
    "\n",
    "!pip3 install install torch==1.11.0+cu113 torchvision torchaudio -f https://download.pytorch.org/whl/cu113/torch_stable.html\n",
    "\n",
    "# !pipenv install \"torch==1.10.1+cu113\" \"torchvision==0.11.2+cu113\" \"torchaudio==0.10.1+cu113\" --index https://download.pytorch.org/whl/\n",
    "# !pip install torch==1.12.1+cu113 torchvision==0.13.1+cu113 torchaudio==0.12.1 -f https://download.pytorch.org/whl/cu113/torch_stable.html\n",
    "# !pip install torch==1.10.1+cu113 torchvision torchaudio -f https://download.pytorch.org/whl/torch_stable.html\n",
    "# !pip3 install install torch==1.10.1 torchvision==0.11.2 torchaudio==0.10.1 -f https://download.pytorch.org/whl/cu113/torch_stable.html\n",
    "# !pip config set global.index-url https://mirrors.aliyun.com/pypi/simple/\n",
    "# !pip config set global.index-url https://pypi.tuna.tsinghua.edu.cn/simple/\n",
    "# !pip install torch-1.10.1+cu113-cp36-cp36m-win_amd64.whl -i https://pypi.tuna.tsinghua.edu.cn/simple/"
   ]
  },
  {
   "cell_type": "markdown",
   "id": "054b64e4-4796-4136-b45e-3664b281cf30",
   "metadata": {},
   "source": [
    "## 用MIM安装MMCV"
   ]
  },
  {
   "cell_type": "code",
   "execution_count": 2,
   "id": "83b1c9e3-0d69-423d-a8a2-172d18dfdb33",
   "metadata": {},
   "outputs": [
    {
     "name": "stdout",
     "output_type": "stream",
     "text": [
      "Looking in indexes: https://pypi.tuna.tsinghua.edu.cn/simple\n",
      "Collecting openmim\n",
      "  Downloading https://pypi.tuna.tsinghua.edu.cn/packages/00/b3/95531cee452028869d0e08974561f83e9c256c98f62c7a45a51893a61c54/openmim-0.3.9-py2.py3-none-any.whl (52 kB)\n",
      "\u001B[K     |████████████████████████████████| 52 kB 27.5 MB/s eta 0:00:01\n",
      "\u001B[?25hRequirement already satisfied: pip>=19.3 in /environment/miniconda3/lib/python3.7/site-packages (from openmim) (21.1.3)\n",
      "Collecting rich\n",
      "  Downloading https://pypi.tuna.tsinghua.edu.cn/packages/be/2a/4e62ff633612f746f88618852a626bbe24226eba5e7ac90e91dcfd6a414e/rich-13.6.0-py3-none-any.whl (239 kB)\n",
      "\u001B[K     |████████████████████████████████| 239 kB 82.3 MB/s eta 0:00:01\n",
      "\u001B[?25hRequirement already satisfied: tabulate in /environment/miniconda3/lib/python3.7/site-packages (from openmim) (0.8.7)\n",
      "Collecting opendatalab\n",
      "  Downloading https://pypi.tuna.tsinghua.edu.cn/packages/10/82/28fa3a91b7c4852fbad9ad32c7b49e4b1e212ab7ccf7296736da0935070d/opendatalab-0.0.10-py3-none-any.whl (29 kB)\n",
      "Requirement already satisfied: colorama in /environment/miniconda3/lib/python3.7/site-packages (from openmim) (0.4.4)\n",
      "Requirement already satisfied: pandas in /environment/miniconda3/lib/python3.7/site-packages (from openmim) (1.3.4)\n",
      "Requirement already satisfied: requests in /environment/miniconda3/lib/python3.7/site-packages (from openmim) (2.24.0)\n",
      "Collecting model-index\n",
      "  Downloading https://pypi.tuna.tsinghua.edu.cn/packages/0f/a6/4d4cbbef704f186d143e2859296a610a355992e4eae71582bd598093b36a/model_index-0.1.11-py3-none-any.whl (34 kB)\n",
      "Requirement already satisfied: Click in /environment/miniconda3/lib/python3.7/site-packages (from openmim) (7.1.2)\n",
      "Requirement already satisfied: pyyaml in /environment/miniconda3/lib/python3.7/site-packages (from model-index->openmim) (6.0)\n",
      "Requirement already satisfied: markdown in /environment/miniconda3/lib/python3.7/site-packages (from model-index->openmim) (3.3.6)\n",
      "Collecting ordered-set\n",
      "  Downloading https://pypi.tuna.tsinghua.edu.cn/packages/33/55/af02708f230eb77084a299d7b08175cff006dea4f2721074b92cdb0296c0/ordered_set-4.1.0-py3-none-any.whl (7.6 kB)\n",
      "Requirement already satisfied: importlib-metadata>=4.4 in /home/featurize/work/.local/lib/python3.7/site-packages (from markdown->model-index->openmim) (6.7.0)\n",
      "Requirement already satisfied: typing-extensions>=3.6.4 in /home/featurize/work/.local/lib/python3.7/site-packages (from importlib-metadata>=4.4->markdown->model-index->openmim) (4.7.1)\n",
      "Requirement already satisfied: zipp>=0.5 in /environment/miniconda3/lib/python3.7/site-packages (from importlib-metadata>=4.4->markdown->model-index->openmim) (3.6.0)\n",
      "Requirement already satisfied: pycryptodome in /environment/miniconda3/lib/python3.7/site-packages (from opendatalab->openmim) (3.12.0)\n",
      "Requirement already satisfied: tqdm in /environment/miniconda3/lib/python3.7/site-packages (from opendatalab->openmim) (4.61.2)\n",
      "Collecting openxlab\n",
      "  Downloading https://pypi.tuna.tsinghua.edu.cn/packages/34/5a/0a0db3dd81494e7b34d009993cb702ae9c7c03435f1393ebfc36546d7107/openxlab-0.0.10-py3-none-any.whl (32 kB)\n",
      "Requirement already satisfied: idna<3,>=2.5 in /environment/miniconda3/lib/python3.7/site-packages (from requests->openmim) (2.10)\n",
      "Requirement already satisfied: certifi>=2017.4.17 in /environment/miniconda3/lib/python3.7/site-packages (from requests->openmim) (2021.5.30)\n",
      "Requirement already satisfied: chardet<4,>=3.0.2 in /environment/miniconda3/lib/python3.7/site-packages (from requests->openmim) (3.0.4)\n",
      "Requirement already satisfied: urllib3!=1.25.0,!=1.25.1,<1.26,>=1.21.1 in /environment/miniconda3/lib/python3.7/site-packages (from requests->openmim) (1.25.11)\n",
      "Collecting pytz~=2023.3\n",
      "  Downloading https://pypi.tuna.tsinghua.edu.cn/packages/32/4d/aaf7eff5deb402fd9a24a1449a8119f00d74ae9c2efa79f8ef9994261fc2/pytz-2023.3.post1-py2.py3-none-any.whl (502 kB)\n",
      "\u001B[K     |████████████████████████████████| 502 kB 74.3 MB/s eta 0:00:01\n",
      "\u001B[?25hCollecting setuptools~=60.2.0\n",
      "  Downloading https://pypi.tuna.tsinghua.edu.cn/packages/8e/16/8f64922c8d7cd7ec193b145c9b11ad281064ff8604452ba19a6d5bbd7ed9/setuptools-60.2.0-py3-none-any.whl (953 kB)\n",
      "\u001B[K     |████████████████████████████████| 953 kB 66.1 MB/s eta 0:00:01\n",
      "\u001B[?25hCollecting tqdm\n",
      "  Downloading https://pypi.tuna.tsinghua.edu.cn/packages/c0/ab/bd9ba7f84c509c8b377628bc66696d52623e30c6c0830db3c78748eec4b4/tqdm-4.65.2-py3-none-any.whl (77 kB)\n",
      "\u001B[K     |████████████████████████████████| 77 kB 61.6 MB/s eta 0:00:01\n",
      "\u001B[?25hCollecting oss2~=2.17.0\n",
      "  Downloading https://pypi.tuna.tsinghua.edu.cn/packages/86/e7/017f8a5948d70e130815eebd14c25dfad916bd574590f2d7e046f19eee3f/oss2-2.17.0.tar.gz (259 kB)\n",
      "\u001B[K     |████████████████████████████████| 259 kB 74.9 MB/s eta 0:00:01\n",
      "\u001B[?25hCollecting requests\n",
      "  Downloading https://pypi.tuna.tsinghua.edu.cn/packages/d2/f4/274d1dbe96b41cf4e0efb70cbced278ffd61b5c7bb70338b62af94ccb25b/requests-2.28.2-py3-none-any.whl (62 kB)\n",
      "\u001B[K     |████████████████████████████████| 62 kB 33.5 MB/s eta 0:00:01\n",
      "\u001B[?25hRequirement already satisfied: crcmod>=1.7 in /environment/miniconda3/lib/python3.7/site-packages (from oss2~=2.17.0->openxlab->opendatalab->openmim) (1.7)\n",
      "Requirement already satisfied: aliyun-python-sdk-kms>=2.4.1 in /environment/miniconda3/lib/python3.7/site-packages (from oss2~=2.17.0->openxlab->opendatalab->openmim) (2.15.0)\n",
      "Requirement already satisfied: aliyun-python-sdk-core>=2.13.12 in /environment/miniconda3/lib/python3.7/site-packages (from oss2~=2.17.0->openxlab->opendatalab->openmim) (2.13.35)\n",
      "Requirement already satisfied: six in /environment/miniconda3/lib/python3.7/site-packages (from oss2~=2.17.0->openxlab->opendatalab->openmim) (1.16.0)\n",
      "Requirement already satisfied: cryptography>=2.6.0 in /environment/miniconda3/lib/python3.7/site-packages (from aliyun-python-sdk-core>=2.13.12->oss2~=2.17.0->openxlab->opendatalab->openmim) (3.4.7)\n",
      "Requirement already satisfied: jmespath<1.0.0,>=0.9.3 in /environment/miniconda3/lib/python3.7/site-packages (from aliyun-python-sdk-core>=2.13.12->oss2~=2.17.0->openxlab->opendatalab->openmim) (0.10.0)\n",
      "Requirement already satisfied: cffi>=1.12 in /environment/miniconda3/lib/python3.7/site-packages (from cryptography>=2.6.0->aliyun-python-sdk-core>=2.13.12->oss2~=2.17.0->openxlab->opendatalab->openmim) (1.14.6)\n",
      "Requirement already satisfied: pycparser in /environment/miniconda3/lib/python3.7/site-packages (from cffi>=1.12->cryptography>=2.6.0->aliyun-python-sdk-core>=2.13.12->oss2~=2.17.0->openxlab->opendatalab->openmim) (2.20)\n",
      "Collecting charset-normalizer<4,>=2\n",
      "  Downloading https://pypi.tuna.tsinghua.edu.cn/packages/08/de/d100c66a901bd668ae1576f8b59c6074f27aa20a356dfd2ba2f2d241089b/charset_normalizer-3.3.1-cp37-cp37m-manylinux_2_17_x86_64.manylinux2014_x86_64.whl (134 kB)\n",
      "\u001B[K     |████████████████████████████████| 134 kB 74.6 MB/s eta 0:00:01\n",
      "\u001B[?25hRequirement already satisfied: python-dateutil>=2.7.3 in /environment/miniconda3/lib/python3.7/site-packages (from pandas->openmim) (2.8.2)\n",
      "Requirement already satisfied: numpy>=1.17.3 in /environment/miniconda3/lib/python3.7/site-packages (from pandas->openmim) (1.21.4)\n",
      "Collecting pygments<3.0.0,>=2.13.0\n",
      "  Downloading https://pypi.tuna.tsinghua.edu.cn/packages/43/88/29adf0b44ba6ac85045e63734ae0997d3c58d8b1a91c914d240828d0d73d/Pygments-2.16.1-py3-none-any.whl (1.2 MB)\n",
      "\u001B[K     |████████████████████████████████| 1.2 MB 67.0 MB/s eta 0:00:01\n",
      "\u001B[?25hCollecting markdown-it-py>=2.2.0\n",
      "  Downloading https://pypi.tuna.tsinghua.edu.cn/packages/bf/25/2d88e8feee8e055d015343f9b86e370a1ccbec546f2865c98397aaef24af/markdown_it_py-2.2.0-py3-none-any.whl (84 kB)\n",
      "\u001B[K     |████████████████████████████████| 84 kB 42.1 MB/s eta 0:00:01\n",
      "\u001B[?25hCollecting mdurl~=0.1\n",
      "  Downloading https://pypi.tuna.tsinghua.edu.cn/packages/b3/38/89ba8ad64ae25be8de66a6d463314cf1eb366222074cfda9ee839c56a4b4/mdurl-0.1.2-py3-none-any.whl (10.0 kB)\n",
      "Building wheels for collected packages: oss2\n",
      "  Building wheel for oss2 (setup.py) ... \u001B[?25ldone\n",
      "\u001B[?25h  Created wheel for oss2: filename=oss2-2.17.0-py3-none-any.whl size=112395 sha256=1276c91f47da0b99c42454957fb367152ee832d1c42c8f41008a345282db3968\n",
      "  Stored in directory: /home/featurize/.cache/pip/wheels/b5/69/c6/f177082e72b3023bdeb0963aae82b0ed6e7b2ea9e600c37e90\n",
      "Successfully built oss2\n",
      "Installing collected packages: charset-normalizer, requests, mdurl, tqdm, setuptools, pytz, pygments, oss2, markdown-it-py, rich, ordered-set, openxlab, opendatalab, model-index, openmim\n",
      "  Attempting uninstall: requests\n",
      "    Found existing installation: requests 2.24.0\n",
      "    Uninstalling requests-2.24.0:\n",
      "      Successfully uninstalled requests-2.24.0\n",
      "  Attempting uninstall: tqdm\n",
      "    Found existing installation: tqdm 4.61.2\n",
      "    Uninstalling tqdm-4.61.2:\n",
      "      Successfully uninstalled tqdm-4.61.2\n",
      "  Attempting uninstall: setuptools\n",
      "    Found existing installation: setuptools 52.0.0.post20210125\n",
      "    Uninstalling setuptools-52.0.0.post20210125:\n",
      "      Successfully uninstalled setuptools-52.0.0.post20210125\n",
      "  Attempting uninstall: pytz\n",
      "    Found existing installation: pytz 2021.3\n",
      "    Uninstalling pytz-2021.3:\n",
      "      Successfully uninstalled pytz-2021.3\n",
      "  Attempting uninstall: pygments\n",
      "    Found existing installation: Pygments 2.10.0\n",
      "    Uninstalling Pygments-2.10.0:\n",
      "      Successfully uninstalled Pygments-2.10.0\n",
      "  Attempting uninstall: oss2\n",
      "    Found existing installation: oss2 2.15.0\n",
      "    Uninstalling oss2-2.15.0:\n",
      "      Successfully uninstalled oss2-2.15.0\n",
      "\u001B[31mERROR: pip's dependency resolver does not currently take into account all the packages that are installed. This behaviour is the source of the following dependency conflicts.\n",
      "ipykernel 6.6.0 requires importlib-metadata<5; python_version < \"3.8.0\", but you have importlib-metadata 6.7.0 which is incompatible.\n",
      "featurize 0.0.24 requires requests==2.24.0, but you have requests 2.28.2 which is incompatible.\u001B[0m\n",
      "Successfully installed charset-normalizer-3.3.1 markdown-it-py-2.2.0 mdurl-0.1.2 model-index-0.1.11 opendatalab-0.0.10 openmim-0.3.9 openxlab-0.0.10 ordered-set-4.1.0 oss2-2.17.0 pygments-2.16.1 pytz-2023.3.post1 requests-2.28.2 rich-13.6.0 setuptools-60.2.0 tqdm-4.65.2\n",
      "Looking in indexes: https://pypi.tuna.tsinghua.edu.cn/simple\n",
      "Looking in links: https://download.openmmlab.com/mmcv/dist/cu113/torch1.11.0/index.html\n",
      "Collecting mmengine\n",
      "  Downloading https://pypi.tuna.tsinghua.edu.cn/packages/30/ea/269564be8bb5dc3f18634acde03e4cf34450af7d9604101b0602763e763d/mmengine-0.9.0-py3-none-any.whl (449 kB)\n",
      "\u001B[K     |████████████████████████████████| 449 kB 60.5 MB/s eta 0:00:01\n",
      "\u001B[?25hRequirement already satisfied: pyyaml in /environment/miniconda3/lib/python3.7/site-packages (from mmengine) (6.0)\n",
      "Requirement already satisfied: numpy in /environment/miniconda3/lib/python3.7/site-packages (from mmengine) (1.21.4)\n",
      "Requirement already satisfied: opencv-python>=3 in /environment/miniconda3/lib/python3.7/site-packages (from mmengine) (4.5.4.60)\n",
      "Collecting addict\n",
      "  Downloading https://pypi.tuna.tsinghua.edu.cn/packages/6a/00/b08f23b7d7e1e14ce01419a467b583edbb93c6cdb8654e54a9cc579cd61f/addict-2.4.0-py3-none-any.whl (3.8 kB)\n",
      "Requirement already satisfied: yapf in /environment/miniconda3/lib/python3.7/site-packages (from mmengine) (0.31.0)\n",
      "Requirement already satisfied: matplotlib in /environment/miniconda3/lib/python3.7/site-packages (from mmengine) (3.5.0)\n",
      "Requirement already satisfied: rich in /environment/miniconda3/lib/python3.7/site-packages (from mmengine) (13.6.0)\n",
      "Requirement already satisfied: termcolor in /environment/miniconda3/lib/python3.7/site-packages (from mmengine) (1.1.0)\n",
      "Requirement already satisfied: fonttools>=4.22.0 in /environment/miniconda3/lib/python3.7/site-packages (from matplotlib->mmengine) (4.28.3)\n",
      "Requirement already satisfied: kiwisolver>=1.0.1 in /environment/miniconda3/lib/python3.7/site-packages (from matplotlib->mmengine) (1.3.2)\n",
      "Requirement already satisfied: python-dateutil>=2.7 in /environment/miniconda3/lib/python3.7/site-packages (from matplotlib->mmengine) (2.8.2)\n",
      "Requirement already satisfied: setuptools-scm>=4 in /environment/miniconda3/lib/python3.7/site-packages (from matplotlib->mmengine) (6.3.2)\n",
      "Requirement already satisfied: pyparsing>=2.2.1 in /environment/miniconda3/lib/python3.7/site-packages (from matplotlib->mmengine) (3.0.6)\n",
      "Requirement already satisfied: cycler>=0.10 in /environment/miniconda3/lib/python3.7/site-packages (from matplotlib->mmengine) (0.11.0)\n",
      "Requirement already satisfied: packaging>=20.0 in /environment/miniconda3/lib/python3.7/site-packages (from matplotlib->mmengine) (21.3)\n",
      "Requirement already satisfied: pillow>=6.2.0 in /environment/miniconda3/lib/python3.7/site-packages (from matplotlib->mmengine) (8.4.0)\n",
      "Requirement already satisfied: six>=1.5 in /environment/miniconda3/lib/python3.7/site-packages (from python-dateutil>=2.7->matplotlib->mmengine) (1.16.0)\n",
      "Requirement already satisfied: setuptools in /environment/miniconda3/lib/python3.7/site-packages (from setuptools-scm>=4->matplotlib->mmengine) (60.2.0)\n",
      "Requirement already satisfied: tomli>=1.0.0 in /environment/miniconda3/lib/python3.7/site-packages (from setuptools-scm>=4->matplotlib->mmengine) (1.2.2)\n",
      "Requirement already satisfied: pygments<3.0.0,>=2.13.0 in /environment/miniconda3/lib/python3.7/site-packages (from rich->mmengine) (2.16.1)\n",
      "Requirement already satisfied: markdown-it-py>=2.2.0 in /environment/miniconda3/lib/python3.7/site-packages (from rich->mmengine) (2.2.0)\n",
      "Requirement already satisfied: typing-extensions<5.0,>=4.0.0 in /home/featurize/work/.local/lib/python3.7/site-packages (from rich->mmengine) (4.7.1)\n",
      "Requirement already satisfied: mdurl~=0.1 in /environment/miniconda3/lib/python3.7/site-packages (from markdown-it-py>=2.2.0->rich->mmengine) (0.1.2)\n",
      "Installing collected packages: addict, mmengine\n",
      "Successfully installed addict-2.4.0 mmengine-0.9.0\n",
      "Looking in indexes: https://pypi.tuna.tsinghua.edu.cn/simple\n",
      "Looking in links: https://download.openmmlab.com/mmcv/dist/cu113/torch1.11.0/index.html\n",
      "Collecting mmcv>=2.0.1\n",
      "  Downloading https://download.openmmlab.com/mmcv/dist/cu113/torch1.11.0/mmcv-2.1.0-cp37-cp37m-manylinux1_x86_64.whl (72.1 MB)\n",
      "\u001B[K     |████████████████████████████████| 72.1 MB 208 kB/s eta 0:00:011   |▍                               | 808 kB 1.2 MB/s eta 0:01:00     |██                              | 4.7 MB 1.2 MB/s eta 0:00:56     |██▋                             | 5.8 MB 1.2 MB/s eta 0:00:55     |█████▌                          | 12.5 MB 15.2 MB/s eta 0:00:04     |██████▏                         | 13.8 MB 15.2 MB/s eta 0:00:04\n",
      "\u001B[?25hRequirement already satisfied: mmengine>=0.3.0 in /environment/miniconda3/lib/python3.7/site-packages (from mmcv>=2.0.1) (0.9.0)\n",
      "Requirement already satisfied: opencv-python>=3 in /environment/miniconda3/lib/python3.7/site-packages (from mmcv>=2.0.1) (4.5.4.60)\n",
      "Requirement already satisfied: addict in /environment/miniconda3/lib/python3.7/site-packages (from mmcv>=2.0.1) (2.4.0)\n",
      "Requirement already satisfied: packaging in /environment/miniconda3/lib/python3.7/site-packages (from mmcv>=2.0.1) (21.3)\n",
      "Requirement already satisfied: pyyaml in /environment/miniconda3/lib/python3.7/site-packages (from mmcv>=2.0.1) (6.0)\n",
      "Requirement already satisfied: yapf in /environment/miniconda3/lib/python3.7/site-packages (from mmcv>=2.0.1) (0.31.0)\n",
      "Requirement already satisfied: Pillow in /environment/miniconda3/lib/python3.7/site-packages (from mmcv>=2.0.1) (8.4.0)\n",
      "Requirement already satisfied: numpy in /environment/miniconda3/lib/python3.7/site-packages (from mmcv>=2.0.1) (1.21.4)\n",
      "Requirement already satisfied: matplotlib in /environment/miniconda3/lib/python3.7/site-packages (from mmengine>=0.3.0->mmcv>=2.0.1) (3.5.0)\n",
      "Requirement already satisfied: rich in /environment/miniconda3/lib/python3.7/site-packages (from mmengine>=0.3.0->mmcv>=2.0.1) (13.6.0)\n",
      "Requirement already satisfied: termcolor in /environment/miniconda3/lib/python3.7/site-packages (from mmengine>=0.3.0->mmcv>=2.0.1) (1.1.0)\n",
      "Requirement already satisfied: setuptools-scm>=4 in /environment/miniconda3/lib/python3.7/site-packages (from matplotlib->mmengine>=0.3.0->mmcv>=2.0.1) (6.3.2)\n",
      "Requirement already satisfied: python-dateutil>=2.7 in /environment/miniconda3/lib/python3.7/site-packages (from matplotlib->mmengine>=0.3.0->mmcv>=2.0.1) (2.8.2)\n",
      "Requirement already satisfied: cycler>=0.10 in /environment/miniconda3/lib/python3.7/site-packages (from matplotlib->mmengine>=0.3.0->mmcv>=2.0.1) (0.11.0)\n",
      "Requirement already satisfied: kiwisolver>=1.0.1 in /environment/miniconda3/lib/python3.7/site-packages (from matplotlib->mmengine>=0.3.0->mmcv>=2.0.1) (1.3.2)\n",
      "Requirement already satisfied: fonttools>=4.22.0 in /environment/miniconda3/lib/python3.7/site-packages (from matplotlib->mmengine>=0.3.0->mmcv>=2.0.1) (4.28.3)\n",
      "Requirement already satisfied: pyparsing>=2.2.1 in /environment/miniconda3/lib/python3.7/site-packages (from matplotlib->mmengine>=0.3.0->mmcv>=2.0.1) (3.0.6)\n",
      "Requirement already satisfied: six>=1.5 in /environment/miniconda3/lib/python3.7/site-packages (from python-dateutil>=2.7->matplotlib->mmengine>=0.3.0->mmcv>=2.0.1) (1.16.0)\n",
      "Requirement already satisfied: tomli>=1.0.0 in /environment/miniconda3/lib/python3.7/site-packages (from setuptools-scm>=4->matplotlib->mmengine>=0.3.0->mmcv>=2.0.1) (1.2.2)\n",
      "Requirement already satisfied: setuptools in /environment/miniconda3/lib/python3.7/site-packages (from setuptools-scm>=4->matplotlib->mmengine>=0.3.0->mmcv>=2.0.1) (60.2.0)\n",
      "Requirement already satisfied: markdown-it-py>=2.2.0 in /environment/miniconda3/lib/python3.7/site-packages (from rich->mmengine>=0.3.0->mmcv>=2.0.1) (2.2.0)\n",
      "Requirement already satisfied: pygments<3.0.0,>=2.13.0 in /environment/miniconda3/lib/python3.7/site-packages (from rich->mmengine>=0.3.0->mmcv>=2.0.1) (2.16.1)\n",
      "Requirement already satisfied: typing-extensions<5.0,>=4.0.0 in /home/featurize/work/.local/lib/python3.7/site-packages (from rich->mmengine>=0.3.0->mmcv>=2.0.1) (4.7.1)\n",
      "Requirement already satisfied: mdurl~=0.1 in /environment/miniconda3/lib/python3.7/site-packages (from markdown-it-py>=2.2.0->rich->mmengine>=0.3.0->mmcv>=2.0.1) (0.1.2)\n",
      "Installing collected packages: mmcv\n",
      "Successfully installed mmcv-2.1.0\n",
      "Looking in indexes: https://pypi.tuna.tsinghua.edu.cn/simple\n",
      "Looking in links: https://download.openmmlab.com/mmcv/dist/cu113/torch1.11.0/index.html\n",
      "Collecting mmdet>=3.1.0\n",
      "  Downloading https://pypi.tuna.tsinghua.edu.cn/packages/7f/48/b3fda74475f799f944fccc685d1a31b26cf6d24f3dcac03c43d2240655af/mmdet-3.2.0-py3-none-any.whl (2.1 MB)\n",
      "\u001B[K     |████████████████████████████████| 2.1 MB 47.9 MB/s eta 0:00:01     |███████████████████▎            | 1.3 MB 47.9 MB/s eta 0:00:01\n",
      "\u001B[?25hCollecting pycocotools\n",
      "  Downloading https://pypi.tuna.tsinghua.edu.cn/packages/27/37/9a47974f4176d10d5304ead7f4c1ddf6e4148405d4e4c5414c4c68967295/pycocotools-2.0.7-cp37-cp37m-manylinux_2_17_x86_64.manylinux2014_x86_64.whl (403 kB)\n",
      "\u001B[K     |████████████████████████████████| 403 kB 56.3 MB/s eta 0:00:01\n",
      "\u001B[?25hRequirement already satisfied: numpy in /environment/miniconda3/lib/python3.7/site-packages (from mmdet>=3.1.0) (1.21.4)\n",
      "Requirement already satisfied: six in /environment/miniconda3/lib/python3.7/site-packages (from mmdet>=3.1.0) (1.16.0)\n",
      "Collecting terminaltables\n",
      "  Downloading https://pypi.tuna.tsinghua.edu.cn/packages/c4/fb/ea621e0a19733e01fe4005d46087d383693c0f4a8f824b47d8d4122c87e0/terminaltables-3.1.10-py2.py3-none-any.whl (15 kB)\n",
      "Requirement already satisfied: tqdm in /environment/miniconda3/lib/python3.7/site-packages (from mmdet>=3.1.0) (4.65.2)\n",
      "Requirement already satisfied: scipy in /environment/miniconda3/lib/python3.7/site-packages (from mmdet>=3.1.0) (1.7.3)\n",
      "Collecting shapely\n",
      "  Downloading https://pypi.tuna.tsinghua.edu.cn/packages/d2/dd/9f0bc472d4a501b0ea333ecb8d6366320c59b7d3200f9ae2026165526971/shapely-2.0.2-cp37-cp37m-manylinux_2_17_x86_64.manylinux2014_x86_64.whl (2.4 MB)\n",
      "\u001B[K     |████████████████████████████████| 2.4 MB 62.1 MB/s eta 0:00:01\n",
      "\u001B[?25hRequirement already satisfied: matplotlib in /environment/miniconda3/lib/python3.7/site-packages (from mmdet>=3.1.0) (3.5.0)\n",
      "Requirement already satisfied: mmcv<2.2.0,>=2.0.0rc4 in /environment/miniconda3/lib/python3.7/site-packages (from mmdet>=3.1.0) (2.1.0)\n",
      "Requirement already satisfied: mmengine<1.0.0,>=0.7.1 in /environment/miniconda3/lib/python3.7/site-packages (from mmdet>=3.1.0) (0.9.0)\n",
      "Requirement already satisfied: opencv-python>=3 in /environment/miniconda3/lib/python3.7/site-packages (from mmcv<2.2.0,>=2.0.0rc4->mmdet>=3.1.0) (4.5.4.60)\n",
      "Requirement already satisfied: Pillow in /environment/miniconda3/lib/python3.7/site-packages (from mmcv<2.2.0,>=2.0.0rc4->mmdet>=3.1.0) (8.4.0)\n",
      "Requirement already satisfied: pyyaml in /environment/miniconda3/lib/python3.7/site-packages (from mmcv<2.2.0,>=2.0.0rc4->mmdet>=3.1.0) (6.0)\n",
      "Requirement already satisfied: packaging in /environment/miniconda3/lib/python3.7/site-packages (from mmcv<2.2.0,>=2.0.0rc4->mmdet>=3.1.0) (21.3)\n",
      "Requirement already satisfied: addict in /environment/miniconda3/lib/python3.7/site-packages (from mmcv<2.2.0,>=2.0.0rc4->mmdet>=3.1.0) (2.4.0)\n",
      "Requirement already satisfied: yapf in /environment/miniconda3/lib/python3.7/site-packages (from mmcv<2.2.0,>=2.0.0rc4->mmdet>=3.1.0) (0.31.0)\n",
      "Requirement already satisfied: termcolor in /environment/miniconda3/lib/python3.7/site-packages (from mmengine<1.0.0,>=0.7.1->mmdet>=3.1.0) (1.1.0)\n",
      "Requirement already satisfied: rich in /environment/miniconda3/lib/python3.7/site-packages (from mmengine<1.0.0,>=0.7.1->mmdet>=3.1.0) (13.6.0)\n",
      "Requirement already satisfied: pyparsing>=2.2.1 in /environment/miniconda3/lib/python3.7/site-packages (from matplotlib->mmdet>=3.1.0) (3.0.6)\n",
      "Requirement already satisfied: setuptools-scm>=4 in /environment/miniconda3/lib/python3.7/site-packages (from matplotlib->mmdet>=3.1.0) (6.3.2)\n",
      "Requirement already satisfied: cycler>=0.10 in /environment/miniconda3/lib/python3.7/site-packages (from matplotlib->mmdet>=3.1.0) (0.11.0)\n",
      "Requirement already satisfied: python-dateutil>=2.7 in /environment/miniconda3/lib/python3.7/site-packages (from matplotlib->mmdet>=3.1.0) (2.8.2)\n",
      "Requirement already satisfied: kiwisolver>=1.0.1 in /environment/miniconda3/lib/python3.7/site-packages (from matplotlib->mmdet>=3.1.0) (1.3.2)\n",
      "Requirement already satisfied: fonttools>=4.22.0 in /environment/miniconda3/lib/python3.7/site-packages (from matplotlib->mmdet>=3.1.0) (4.28.3)\n",
      "Requirement already satisfied: setuptools in /environment/miniconda3/lib/python3.7/site-packages (from setuptools-scm>=4->matplotlib->mmdet>=3.1.0) (60.2.0)\n",
      "Requirement already satisfied: tomli>=1.0.0 in /environment/miniconda3/lib/python3.7/site-packages (from setuptools-scm>=4->matplotlib->mmdet>=3.1.0) (1.2.2)\n",
      "Requirement already satisfied: pygments<3.0.0,>=2.13.0 in /environment/miniconda3/lib/python3.7/site-packages (from rich->mmengine<1.0.0,>=0.7.1->mmdet>=3.1.0) (2.16.1)\n",
      "Requirement already satisfied: markdown-it-py>=2.2.0 in /environment/miniconda3/lib/python3.7/site-packages (from rich->mmengine<1.0.0,>=0.7.1->mmdet>=3.1.0) (2.2.0)\n",
      "Requirement already satisfied: typing-extensions<5.0,>=4.0.0 in /home/featurize/work/.local/lib/python3.7/site-packages (from rich->mmengine<1.0.0,>=0.7.1->mmdet>=3.1.0) (4.7.1)\n",
      "Requirement already satisfied: mdurl~=0.1 in /environment/miniconda3/lib/python3.7/site-packages (from markdown-it-py>=2.2.0->rich->mmengine<1.0.0,>=0.7.1->mmdet>=3.1.0) (0.1.2)\n",
      "Installing collected packages: terminaltables, shapely, pycocotools, mmdet\n",
      "Successfully installed mmdet-3.2.0 pycocotools-2.0.7 shapely-2.0.2 terminaltables-3.1.10\n"
     ]
    }
   ],
   "source": [
    "!pip install -U openmim\n",
    "!mim install mmengine\n",
    "!mim install \"mmcv>=2.0.1\"\n",
    "!mim install \"mmdet>=3.1.0\""
   ]
  },
  {
   "cell_type": "markdown",
   "id": "38c55520-071b-41de-91f4-3ec78e16bf27",
   "metadata": {},
   "source": [
    "## 安装其它工具包"
   ]
  },
  {
   "cell_type": "code",
   "execution_count": 3,
   "id": "eb4b3373-f117-46a9-ab43-e67753eb7c61",
   "metadata": {},
   "outputs": [
    {
     "name": "stdout",
     "output_type": "stream",
     "text": [
      "Looking in indexes: https://pypi.tuna.tsinghua.edu.cn/simple\n",
      "Requirement already satisfied: opencv-python in /environment/miniconda3/lib/python3.7/site-packages (4.5.4.60)\n",
      "Requirement already satisfied: pillow in /environment/miniconda3/lib/python3.7/site-packages (8.4.0)\n",
      "Requirement already satisfied: matplotlib in /environment/miniconda3/lib/python3.7/site-packages (3.5.0)\n",
      "Collecting seaborn\n",
      "  Downloading https://pypi.tuna.tsinghua.edu.cn/packages/8f/2e/17bbb83fbf102687bb2aa3d808add39da820a7698159302a1a69bb82e01c/seaborn-0.12.2-py3-none-any.whl (293 kB)\n",
      "\u001B[K     |████████████████████████████████| 293 kB 64.3 MB/s eta 0:00:01\n",
      "\u001B[?25hRequirement already satisfied: tqdm in /environment/miniconda3/lib/python3.7/site-packages (4.65.2)\n",
      "Requirement already satisfied: pycocotools in /environment/miniconda3/lib/python3.7/site-packages (2.0.7)\n",
      "Requirement already satisfied: numpy>=1.14.5 in /environment/miniconda3/lib/python3.7/site-packages (from opencv-python) (1.21.4)\n",
      "Requirement already satisfied: kiwisolver>=1.0.1 in /environment/miniconda3/lib/python3.7/site-packages (from matplotlib) (1.3.2)\n",
      "Requirement already satisfied: packaging>=20.0 in /environment/miniconda3/lib/python3.7/site-packages (from matplotlib) (21.3)\n",
      "Requirement already satisfied: setuptools-scm>=4 in /environment/miniconda3/lib/python3.7/site-packages (from matplotlib) (6.3.2)\n",
      "Requirement already satisfied: fonttools>=4.22.0 in /environment/miniconda3/lib/python3.7/site-packages (from matplotlib) (4.28.3)\n",
      "Requirement already satisfied: python-dateutil>=2.7 in /environment/miniconda3/lib/python3.7/site-packages (from matplotlib) (2.8.2)\n",
      "Requirement already satisfied: cycler>=0.10 in /environment/miniconda3/lib/python3.7/site-packages (from matplotlib) (0.11.0)\n",
      "Requirement already satisfied: pyparsing>=2.2.1 in /environment/miniconda3/lib/python3.7/site-packages (from matplotlib) (3.0.6)\n",
      "Requirement already satisfied: six>=1.5 in /environment/miniconda3/lib/python3.7/site-packages (from python-dateutil>=2.7->matplotlib) (1.16.0)\n",
      "Requirement already satisfied: tomli>=1.0.0 in /environment/miniconda3/lib/python3.7/site-packages (from setuptools-scm>=4->matplotlib) (1.2.2)\n",
      "Requirement already satisfied: setuptools in /environment/miniconda3/lib/python3.7/site-packages (from setuptools-scm>=4->matplotlib) (60.2.0)\n",
      "Requirement already satisfied: typing_extensions in /home/featurize/work/.local/lib/python3.7/site-packages (from seaborn) (4.7.1)\n",
      "Requirement already satisfied: pandas>=0.25 in /environment/miniconda3/lib/python3.7/site-packages (from seaborn) (1.3.4)\n",
      "Requirement already satisfied: pytz>=2017.3 in /environment/miniconda3/lib/python3.7/site-packages (from pandas>=0.25->seaborn) (2023.3.post1)\n",
      "Installing collected packages: seaborn\n",
      "Successfully installed seaborn-0.12.2\n"
     ]
    }
   ],
   "source": [
    "!pip install opencv-python pillow matplotlib seaborn tqdm pycocotools -i https://pypi.tuna.tsinghua.edu.cn/simple\n"
   ]
  },
  {
   "cell_type": "markdown",
   "id": "0defb2f8-d5ab-4ee4-a66f-85cc17c221de",
   "metadata": {
    "tags": []
   },
   "source": [
    "## 下载 MMPose"
   ]
  },
  {
   "cell_type": "code",
   "execution_count": 4,
   "id": "89026868-58b1-4755-aca3-ded98451e906",
   "metadata": {},
   "outputs": [],
   "source": [
    "# 删掉原有的 mmpose 文件夹（如有）\n",
    "!rm -rf mmpose"
   ]
  },
  {
   "cell_type": "code",
   "execution_count": 5,
   "id": "09c51fee-d040-46cf-8d86-c0248ab7fe84",
   "metadata": {},
   "outputs": [
    {
     "name": "stdout",
     "output_type": "stream",
     "text": [
      "正克隆到 'mmpose'...\n",
      "remote: Enumerating objects: 30276, done.\u001B[K\n",
      "remote: Counting objects: 100% (1053/1053), done.\u001B[K\n",
      "remote: Compressing objects: 100% (649/649), done.\u001B[K\n",
      "remote: Total 30276 (delta 515), reused 801 (delta 395), pack-reused 29223\u001B[K\n",
      "接收对象中: 100% (30276/30276), 53.57 MiB | 14.69 MiB/s, 完成.\n",
      "处理 delta 中: 100% (21312/21312), 完成.\n",
      "正在更新文件: 100% (1869/1869), 完成.\n"
     ]
    }
   ],
   "source": [
    "# 从 github 上下载最新的 mmpose 源代码\n",
    "!git clone https://github.com/open-mmlab/mmpose.git "
   ]
  },
  {
   "cell_type": "code",
   "execution_count": 1,
   "id": "b6a71270-f87b-4cf3-87f0-771f45f38c28",
   "metadata": {
    "ExecuteTime": {
     "end_time": "2023-11-01T07:18:48.359673600Z",
     "start_time": "2023-11-01T07:18:48.314994100Z"
    }
   },
   "outputs": [],
   "source": [
    "# 进入主目录\n",
    "import os\n",
    "os.chdir('mmpose')"
   ]
  },
  {
   "cell_type": "markdown",
   "id": "f1cd1922-e20a-459a-bf45-e826d8245d88",
   "metadata": {},
   "source": [
    "## 安装 MMPose"
   ]
  },
  {
   "cell_type": "code",
   "execution_count": 7,
   "id": "21e78bae-1d33-478d-8b72-5e8584f6cadf",
   "metadata": {},
   "outputs": [
    {
     "name": "stdout",
     "output_type": "stream",
     "text": [
      "Looking in indexes: https://pypi.tuna.tsinghua.edu.cn/simple\n",
      "Looking in links: https://download.openmmlab.com/mmcv/dist/cu113/torch1.11.0/index.html\n",
      "Obtaining file:///home/featurize/work/MMpose-10/mmpose\n",
      "Collecting chumpy\n",
      "  Downloading https://pypi.tuna.tsinghua.edu.cn/packages/01/f7/865755c8bdb837841938de622e6c8b5cb6b1c933bde3bd3332f0cd4574f1/chumpy-0.70.tar.gz (50 kB)\n",
      "\u001B[K     |████████████████████████████████| 50 kB 46.8 MB/s eta 0:00:01\n",
      "\u001B[?25hCollecting json_tricks\n",
      "  Downloading https://pypi.tuna.tsinghua.edu.cn/packages/ae/fd/e3edcf827e7f9c17c5ea1a192841dcfb1dd575a7518c25c5cadd921625b1/json_tricks-3.17.3-py2.py3-none-any.whl (27 kB)\n",
      "Requirement already satisfied: matplotlib in /environment/miniconda3/lib/python3.7/site-packages (from mmpose==1.2.0) (3.5.0)\n",
      "Collecting munkres\n",
      "  Downloading https://pypi.tuna.tsinghua.edu.cn/packages/90/ab/0301c945a704218bc9435f0e3c88884f6b19ef234d8899fb47ce1ccfd0c9/munkres-1.1.4-py2.py3-none-any.whl (7.0 kB)\n",
      "Requirement already satisfied: numpy in /environment/miniconda3/lib/python3.7/site-packages (from mmpose==1.2.0) (1.21.4)\n",
      "Requirement already satisfied: opencv-python in /environment/miniconda3/lib/python3.7/site-packages (from mmpose==1.2.0) (4.5.4.60)\n",
      "Requirement already satisfied: pillow in /environment/miniconda3/lib/python3.7/site-packages (from mmpose==1.2.0) (8.4.0)\n",
      "Requirement already satisfied: scipy in /environment/miniconda3/lib/python3.7/site-packages (from mmpose==1.2.0) (1.7.3)\n",
      "Requirement already satisfied: torchvision in /environment/miniconda3/lib/python3.7/site-packages (from mmpose==1.2.0) (0.12.0+cu113)\n",
      "Collecting xtcocotools>=1.12\n",
      "  Downloading https://pypi.tuna.tsinghua.edu.cn/packages/3d/05/a5c51f53135427dd3f9b0b87687db5d68012efefd17a8882f82a09afc977/xtcocotools-1.14.3-cp37-cp37m-manylinux1_x86_64.whl (411 kB)\n",
      "\u001B[K     |████████████████████████████████| 411 kB 32.1 MB/s eta 0:00:01\n",
      "\u001B[?25hRequirement already satisfied: mmcv<2.2.0,>=2.0.0 in /environment/miniconda3/lib/python3.7/site-packages (from mmpose==1.2.0) (2.1.0)\n",
      "Requirement already satisfied: mmdet<3.3.0,>=3.0.0 in /environment/miniconda3/lib/python3.7/site-packages (from mmpose==1.2.0) (3.2.0)\n",
      "Requirement already satisfied: mmengine<1.0.0,>=0.4.0 in /environment/miniconda3/lib/python3.7/site-packages (from mmpose==1.2.0) (0.9.0)\n",
      "Requirement already satisfied: addict in /environment/miniconda3/lib/python3.7/site-packages (from mmcv<2.2.0,>=2.0.0->mmpose==1.2.0) (2.4.0)\n",
      "Requirement already satisfied: yapf in /environment/miniconda3/lib/python3.7/site-packages (from mmcv<2.2.0,>=2.0.0->mmpose==1.2.0) (0.31.0)\n",
      "Requirement already satisfied: packaging in /environment/miniconda3/lib/python3.7/site-packages (from mmcv<2.2.0,>=2.0.0->mmpose==1.2.0) (21.3)\n",
      "Requirement already satisfied: pyyaml in /environment/miniconda3/lib/python3.7/site-packages (from mmcv<2.2.0,>=2.0.0->mmpose==1.2.0) (6.0)\n",
      "Requirement already satisfied: shapely in /environment/miniconda3/lib/python3.7/site-packages (from mmdet<3.3.0,>=3.0.0->mmpose==1.2.0) (2.0.2)\n",
      "Requirement already satisfied: tqdm in /environment/miniconda3/lib/python3.7/site-packages (from mmdet<3.3.0,>=3.0.0->mmpose==1.2.0) (4.65.2)\n",
      "Requirement already satisfied: six in /environment/miniconda3/lib/python3.7/site-packages (from mmdet<3.3.0,>=3.0.0->mmpose==1.2.0) (1.16.0)\n",
      "Requirement already satisfied: pycocotools in /environment/miniconda3/lib/python3.7/site-packages (from mmdet<3.3.0,>=3.0.0->mmpose==1.2.0) (2.0.7)\n",
      "Requirement already satisfied: terminaltables in /environment/miniconda3/lib/python3.7/site-packages (from mmdet<3.3.0,>=3.0.0->mmpose==1.2.0) (3.1.10)\n",
      "Requirement already satisfied: termcolor in /environment/miniconda3/lib/python3.7/site-packages (from mmengine<1.0.0,>=0.4.0->mmpose==1.2.0) (1.1.0)\n",
      "Requirement already satisfied: rich in /environment/miniconda3/lib/python3.7/site-packages (from mmengine<1.0.0,>=0.4.0->mmpose==1.2.0) (13.6.0)\n",
      "Requirement already satisfied: setuptools>=18.0 in /environment/miniconda3/lib/python3.7/site-packages (from xtcocotools>=1.12->mmpose==1.2.0) (60.2.0)\n",
      "Collecting cython>=0.27.3\n",
      "  Downloading https://pypi.tuna.tsinghua.edu.cn/packages/dc/dd/4b2c05334c4804d108f37ae79d11f82aca13afc13014fca8f1403acddf57/Cython-3.0.4-cp37-cp37m-manylinux_2_17_x86_64.manylinux2014_x86_64.whl (3.6 MB)\n",
      "\u001B[K     |████████████████████████████████| 3.6 MB 37.1 MB/s eta 0:00:01\n",
      "\u001B[?25hRequirement already satisfied: fonttools>=4.22.0 in /environment/miniconda3/lib/python3.7/site-packages (from matplotlib->mmpose==1.2.0) (4.28.3)\n",
      "Requirement already satisfied: python-dateutil>=2.7 in /environment/miniconda3/lib/python3.7/site-packages (from matplotlib->mmpose==1.2.0) (2.8.2)\n",
      "Requirement already satisfied: cycler>=0.10 in /environment/miniconda3/lib/python3.7/site-packages (from matplotlib->mmpose==1.2.0) (0.11.0)\n",
      "Requirement already satisfied: kiwisolver>=1.0.1 in /environment/miniconda3/lib/python3.7/site-packages (from matplotlib->mmpose==1.2.0) (1.3.2)\n",
      "Requirement already satisfied: pyparsing>=2.2.1 in /environment/miniconda3/lib/python3.7/site-packages (from matplotlib->mmpose==1.2.0) (3.0.6)\n",
      "Requirement already satisfied: setuptools-scm>=4 in /environment/miniconda3/lib/python3.7/site-packages (from matplotlib->mmpose==1.2.0) (6.3.2)\n",
      "Requirement already satisfied: tomli>=1.0.0 in /environment/miniconda3/lib/python3.7/site-packages (from setuptools-scm>=4->matplotlib->mmpose==1.2.0) (1.2.2)\n",
      "Requirement already satisfied: pygments<3.0.0,>=2.13.0 in /environment/miniconda3/lib/python3.7/site-packages (from rich->mmengine<1.0.0,>=0.4.0->mmpose==1.2.0) (2.16.1)\n",
      "Requirement already satisfied: markdown-it-py>=2.2.0 in /environment/miniconda3/lib/python3.7/site-packages (from rich->mmengine<1.0.0,>=0.4.0->mmpose==1.2.0) (2.2.0)\n",
      "Requirement already satisfied: typing-extensions<5.0,>=4.0.0 in /home/featurize/work/.local/lib/python3.7/site-packages (from rich->mmengine<1.0.0,>=0.4.0->mmpose==1.2.0) (4.7.1)\n",
      "Requirement already satisfied: mdurl~=0.1 in /environment/miniconda3/lib/python3.7/site-packages (from markdown-it-py>=2.2.0->rich->mmengine<1.0.0,>=0.4.0->mmpose==1.2.0) (0.1.2)\n",
      "Requirement already satisfied: requests in /environment/miniconda3/lib/python3.7/site-packages (from torchvision->mmpose==1.2.0) (2.28.2)\n",
      "Requirement already satisfied: torch==1.11.0 in /environment/miniconda3/lib/python3.7/site-packages (from torchvision->mmpose==1.2.0) (1.11.0+cu113)\n",
      "Requirement already satisfied: idna<4,>=2.5 in /environment/miniconda3/lib/python3.7/site-packages (from requests->torchvision->mmpose==1.2.0) (2.10)\n",
      "Requirement already satisfied: urllib3<1.27,>=1.21.1 in /environment/miniconda3/lib/python3.7/site-packages (from requests->torchvision->mmpose==1.2.0) (1.25.11)\n",
      "Requirement already satisfied: certifi>=2017.4.17 in /environment/miniconda3/lib/python3.7/site-packages (from requests->torchvision->mmpose==1.2.0) (2021.5.30)\n",
      "Requirement already satisfied: charset-normalizer<4,>=2 in /environment/miniconda3/lib/python3.7/site-packages (from requests->torchvision->mmpose==1.2.0) (3.3.1)\n",
      "Building wheels for collected packages: chumpy\n",
      "  Building wheel for chumpy (setup.py) ... \u001B[?25ldone\n",
      "\u001B[?25h  Created wheel for chumpy: filename=chumpy-0.70-py3-none-any.whl size=58285 sha256=066eb35e8f3a35943967b4a2cb0b936a5ed970bf4241ee47231126f234b4dc1a\n",
      "  Stored in directory: /home/featurize/.cache/pip/wheels/2f/ff/a6/ddb75bc3aa8fa8ba036634f428f414ed87f966d7e1ad33c514\n",
      "Successfully built chumpy\n",
      "Installing collected packages: cython, xtcocotools, munkres, json-tricks, chumpy, mmpose\n",
      "  Running setup.py develop for mmpose\n",
      "Successfully installed chumpy-0.70 cython-3.0.4 json-tricks-3.17.3 mmpose-1.2.0 munkres-1.1.4 xtcocotools-1.14.3\n"
     ]
    }
   ],
   "source": [
    "!mim install -e ."
   ]
  },
  {
   "cell_type": "markdown",
   "id": "a828bfe4-82e5-497a-9bda-cb9837df2cb3",
   "metadata": {},
   "source": [
    "## 下载预训练模型权重文件和视频素材"
   ]
  },
  {
   "cell_type": "code",
   "execution_count": 2,
   "id": "5aac1d0c-dbf5-478c-ab80-7e2aa0ab0f01",
   "metadata": {
    "ExecuteTime": {
     "end_time": "2023-11-01T07:18:53.519225500Z",
     "start_time": "2023-11-01T07:18:53.502877700Z"
    }
   },
   "outputs": [],
   "source": [
    "import os\n",
    "\n",
    "# 创建 checkpoint 文件夹，用于存放预训练模型权重文件\n",
    "os.mkdir('checkpoint')\n",
    "\n",
    "# 创建 outputs 文件夹，用于存放预测结果\n",
    "os.mkdir('outputs')\n",
    "\n",
    "# 创建 data 文件夹，用于存放图片和视频素材\n",
    "os.mkdir('data')\n",
    "\n",
    "os.mkdir('data/test')"
   ]
  },
  {
   "cell_type": "code",
   "execution_count": 3,
   "id": "bae3b8b0-07a2-4a79-83cf-42276ea1c9ef",
   "metadata": {
    "ExecuteTime": {
     "end_time": "2023-11-01T07:20:29.283492800Z",
     "start_time": "2023-11-01T07:20:29.139750800Z"
    }
   },
   "outputs": [
    {
     "name": "stderr",
     "output_type": "stream",
     "text": [
      "'wget' 不是内部或外部命令，也不是可运行的程序\n",
      "或批处理文件。\n",
      "'wget' 不是内部或外部命令，也不是可运行的程序\n",
      "或批处理文件。\n",
      "'wget' 不是内部或外部命令，也不是可运行的程序\n",
      "或批处理文件。\n",
      "'wget' 不是内部或外部命令，也不是可运行的程序\n",
      "或批处理文件。\n"
     ]
    }
   ],
   "source": [
    "# 多人图片，来源：https://www.pexels.com/zh-cn/photo/2168292/\n",
    "!wget https://zihao-openmmlab.obs.cn-east-3.myhuaweicloud.com/20220610-mmpose/images/multi-person.jpeg -O data/test/multi-person.jpeg\n",
    "\n",
    "# 单人视频-唱跳篮球 \n",
    "!wget https://zihao-openmmlab.obs.myhuaweicloud.com/20220610-mmpose/videos/cxk.mp4 -P data/test\n",
    "\n",
    "# 妈妈和女儿跳舞，经微信压缩\n",
    "!wget https://zihao-openmmlab.obs.myhuaweicloud.com/20220610-mmpose/videos/mother_wx.mp4 -P data/test\n",
    "\n",
    "# 两个女生跳舞视频，来源：https://mixkit.co/free-stock-video/two-girls-having-fun-in-a-retro-restaurant-42298/\n",
    "!wget https://zihao-openmmlab.obs.cn-east-3.myhuaweicloud.com/20220610-mmpose/videos/two-girls.mp4 -O data/test/two-girls.mp4"
   ]
  },
  {
   "cell_type": "markdown",
   "id": "fa97e1da-f245-4d32-892d-dec07a6b2c16",
   "metadata": {},
   "source": [
    "## 检查安装成功"
   ]
  },
  {
   "cell_type": "code",
   "execution_count": 4,
   "id": "424fca02-13cc-493f-8833-ec63900f02d3",
   "metadata": {
    "ExecuteTime": {
     "end_time": "2023-11-01T07:21:37.624623900Z",
     "start_time": "2023-11-01T07:21:36.114267400Z"
    }
   },
   "outputs": [
    {
     "name": "stdout",
     "output_type": "stream",
     "text": [
      "Pytorch 版本 1.11.0+cu113\n",
      "CUDA 是否可用 True\n"
     ]
    }
   ],
   "source": [
    "# 检查 Pytorch\n",
    "import torch, torchvision\n",
    "print('Pytorch 版本', torch.__version__)\n",
    "print('CUDA 是否可用',torch.cuda.is_available())"
   ]
  },
  {
   "cell_type": "code",
   "execution_count": 5,
   "id": "96a6e738-d9d3-4e9f-a053-15bf2f29d43b",
   "metadata": {
    "ExecuteTime": {
     "end_time": "2023-11-01T07:21:38.441363100Z",
     "start_time": "2023-11-01T07:21:37.624623900Z"
    }
   },
   "outputs": [
    {
     "name": "stdout",
     "output_type": "stream",
     "text": [
      "MMCV版本 2.1.0\n",
      "CUDA版本 11.3\n",
      "编译器版本 MSVC 192930148\n"
     ]
    }
   ],
   "source": [
    "# 检查 mmcv\n",
    "import mmcv\n",
    "from mmcv.ops import get_compiling_cuda_version, get_compiler_version\n",
    "print('MMCV版本', mmcv.__version__)\n",
    "print('CUDA版本', get_compiling_cuda_version())\n",
    "print('编译器版本', get_compiler_version())"
   ]
  },
  {
   "cell_type": "code",
   "execution_count": 6,
   "id": "dae8b28c-fa1f-4911-ba27-50ed745e9679",
   "metadata": {
    "ExecuteTime": {
     "end_time": "2023-11-01T07:21:43.246355500Z",
     "start_time": "2023-11-01T07:21:43.213717800Z"
    }
   },
   "outputs": [
    {
     "name": "stdout",
     "output_type": "stream",
     "text": [
      "mmpose版本 1.2.0\n"
     ]
    }
   ],
   "source": [
    "# 检查 mmpose\n",
    "import mmpose\n",
    "print('mmpose版本', mmpose.__version__)"
   ]
  },
  {
   "cell_type": "markdown",
   "id": "6f89f196-6f70-46a5-9715-ee4755717c13",
   "metadata": {},
   "source": [
    "没有报错，即证明安装成功。"
   ]
  },
  {
   "cell_type": "code",
   "execution_count": null,
   "id": "90954e26-49ee-42ad-b2ff-7514e8542db4",
   "metadata": {},
   "outputs": [],
   "source": []
  }
 ],
 "metadata": {
  "kernelspec": {
   "display_name": "Python 3 (ipykernel)",
   "language": "python",
   "name": "python3"
  },
  "language_info": {
   "codemirror_mode": {
    "name": "ipython",
    "version": 3
   },
   "file_extension": ".py",
   "mimetype": "text/x-python",
   "name": "python",
   "nbconvert_exporter": "python",
   "pygments_lexer": "ipython3",
   "version": "3.7.10"
  }
 },
 "nbformat": 4,
 "nbformat_minor": 5
}
